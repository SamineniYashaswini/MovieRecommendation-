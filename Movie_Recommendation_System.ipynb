{
 "cells": [
  {
   "cell_type": "markdown",
   "id": "4b4445e6-6932-4375-825c-06e18a2dbf64",
   "metadata": {},
   "source": [
    "# 🎬 Movie Recommendation System\n",
    "\n",
    "This project recommends similar movies based on genres using Natural Language Processing.\n",
    "\n",
    "### ✅ What it does:\n",
    "- Cleans genre text\n",
    "- Uses **TF-IDF Vectorizer** to extract features\n",
    "- Computes **cosine similarity** between movies\n",
    "- Recommends **Top 5 similar movies**\n",
    "\n",
    "### 📁 Dataset:\n",
    "- `movies.csv` from MovieLens (includes title, genres)\n",
    "\n",
    "### 🔍 Example:\n",
    "Query → `Toy Story (1995)`  \n",
    "Output → Movies like `Toy Story 2 (1999)`, `Antz (1998)`, etc.\n",
    "\n",
    "---\n",
    "\n",
    "Made with ❤️ using **pandas**, **scikit-learn**, and **Jupyter Notebook**\n"
   ]
  },
  {
   "cell_type": "markdown",
   "id": "819e0612-617c-4256-b981-41e2a84746c9",
   "metadata": {},
   "source": [
    "## 🎯 Step 1: Importing Essential Libraries\n",
    "\n",
    "To build our movie recommendation engine, we first import necessary libraries:\n",
    "- `pandas` to handle data.\n",
    "- `TfidfVectorizer` to convert text data (genres) into meaningful numerical features.\n",
    "- `cosine_similarity` to measure how similar two movies are based on their genres.\n"
   ]
  },
  {
   "cell_type": "code",
   "execution_count": null,
   "id": "6651e5f3-d4a7-4888-b393-905883cbcd5c",
   "metadata": {},
   "outputs": [],
   "source": [
    "import pandas as pd\n",
    "from sklearn.feature_extraction.text import TfidfVectorizer\n",
    "from sklearn.metrics.pairwise import cosine_similarity\n"
   ]
  },
  {
   "cell_type": "markdown",
   "id": "786384b2-b3ef-4fdc-823d-e64238428fcf",
   "metadata": {},
   "source": [
    "## 📥 Step 2: Load and Explore the Dataset\n",
    "\n",
    "We load our movie data from a CSV file. Let’s take a quick look at the first 5 movies to understand the structure.\n",
    "- `movieId`: Unique ID for each movie.\n",
    "- `title`: Name of the movie.\n",
    "- `genres`: Pipe-separated genres associated with each movie.\n"
   ]
  },
  {
   "cell_type": "code",
   "execution_count": null,
   "id": "fa9592d8-a098-4692-a8e5-f2463c690566",
   "metadata": {},
   "outputs": [
    {
     "data": {
      "text/html": [
       "<div>\n",
       "<style scoped>\n",
       "    .dataframe tbody tr th:only-of-type {\n",
       "        vertical-align: middle;\n",
       "    }\n",
       "\n",
       "    .dataframe tbody tr th {\n",
       "        vertical-align: top;\n",
       "    }\n",
       "\n",
       "    .dataframe thead th {\n",
       "        text-align: right;\n",
       "    }\n",
       "</style>\n",
       "<table border=\"1\" class=\"dataframe\">\n",
       "  <thead>\n",
       "    <tr style=\"text-align: right;\">\n",
       "      <th></th>\n",
       "      <th>movieId</th>\n",
       "      <th>title</th>\n",
       "      <th>genres</th>\n",
       "    </tr>\n",
       "  </thead>\n",
       "  <tbody>\n",
       "    <tr>\n",
       "      <th>0</th>\n",
       "      <td>1</td>\n",
       "      <td>Toy Story (1995)</td>\n",
       "      <td>Adventure|Animation|Children|Comedy|Fantasy</td>\n",
       "    </tr>\n",
       "    <tr>\n",
       "      <th>1</th>\n",
       "      <td>2</td>\n",
       "      <td>Jumanji (1995)</td>\n",
       "      <td>Adventure|Children|Fantasy</td>\n",
       "    </tr>\n",
       "    <tr>\n",
       "      <th>2</th>\n",
       "      <td>3</td>\n",
       "      <td>Grumpier Old Men (1995)</td>\n",
       "      <td>Comedy|Romance</td>\n",
       "    </tr>\n",
       "    <tr>\n",
       "      <th>3</th>\n",
       "      <td>4</td>\n",
       "      <td>Waiting to Exhale (1995)</td>\n",
       "      <td>Comedy|Drama|Romance</td>\n",
       "    </tr>\n",
       "    <tr>\n",
       "      <th>4</th>\n",
       "      <td>5</td>\n",
       "      <td>Father of the Bride Part II (1995)</td>\n",
       "      <td>Comedy</td>\n",
       "    </tr>\n",
       "  </tbody>\n",
       "</table>\n",
       "</div>"
      ],
      "text/plain": [
       "   movieId                               title  \\\n",
       "0        1                    Toy Story (1995)   \n",
       "1        2                      Jumanji (1995)   \n",
       "2        3             Grumpier Old Men (1995)   \n",
       "3        4            Waiting to Exhale (1995)   \n",
       "4        5  Father of the Bride Part II (1995)   \n",
       "\n",
       "                                        genres  \n",
       "0  Adventure|Animation|Children|Comedy|Fantasy  \n",
       "1                   Adventure|Children|Fantasy  \n",
       "2                               Comedy|Romance  \n",
       "3                         Comedy|Drama|Romance  \n",
       "4                                       Comedy  "
      ]
     },
     "execution_count": 2,
     "metadata": {},
     "output_type": "execute_result"
    }
   ],
   "source": [
    "# Load the dataset\n",
    "movies = pd.read_csv(\"data/movies.csv\")\n",
    "\n",
    "# Show the first 5 rows\n",
    "movies.head()\n"
   ]
  },
  {
   "cell_type": "markdown",
   "id": "5110ca33-bf45-4150-9020-ed429be2ebd9",
   "metadata": {},
   "source": [
    "## 🧹 Step 3: Clean Genre Data for Better Analysis\n",
    "\n",
    "Genres are originally separated by `|`, which makes them hard to analyze.\n",
    "We replace the `|` with spaces so that our vectorizer treats each genre as a separate word (feature).\n"
   ]
  },
  {
   "cell_type": "code",
   "execution_count": null,
   "id": "0b18d6ef-1315-4210-acb5-9c9413b478c9",
   "metadata": {},
   "outputs": [
    {
     "data": {
      "text/html": [
       "<div>\n",
       "<style scoped>\n",
       "    .dataframe tbody tr th:only-of-type {\n",
       "        vertical-align: middle;\n",
       "    }\n",
       "\n",
       "    .dataframe tbody tr th {\n",
       "        vertical-align: top;\n",
       "    }\n",
       "\n",
       "    .dataframe thead th {\n",
       "        text-align: right;\n",
       "    }\n",
       "</style>\n",
       "<table border=\"1\" class=\"dataframe\">\n",
       "  <thead>\n",
       "    <tr style=\"text-align: right;\">\n",
       "      <th></th>\n",
       "      <th>title</th>\n",
       "      <th>genres</th>\n",
       "    </tr>\n",
       "  </thead>\n",
       "  <tbody>\n",
       "    <tr>\n",
       "      <th>0</th>\n",
       "      <td>Toy Story (1995)</td>\n",
       "      <td>Adventure Animation Children Comedy Fantasy</td>\n",
       "    </tr>\n",
       "    <tr>\n",
       "      <th>1</th>\n",
       "      <td>Jumanji (1995)</td>\n",
       "      <td>Adventure Children Fantasy</td>\n",
       "    </tr>\n",
       "    <tr>\n",
       "      <th>2</th>\n",
       "      <td>Grumpier Old Men (1995)</td>\n",
       "      <td>Comedy Romance</td>\n",
       "    </tr>\n",
       "    <tr>\n",
       "      <th>3</th>\n",
       "      <td>Waiting to Exhale (1995)</td>\n",
       "      <td>Comedy Drama Romance</td>\n",
       "    </tr>\n",
       "    <tr>\n",
       "      <th>4</th>\n",
       "      <td>Father of the Bride Part II (1995)</td>\n",
       "      <td>Comedy</td>\n",
       "    </tr>\n",
       "  </tbody>\n",
       "</table>\n",
       "</div>"
      ],
      "text/plain": [
       "                                title  \\\n",
       "0                    Toy Story (1995)   \n",
       "1                      Jumanji (1995)   \n",
       "2             Grumpier Old Men (1995)   \n",
       "3            Waiting to Exhale (1995)   \n",
       "4  Father of the Bride Part II (1995)   \n",
       "\n",
       "                                        genres  \n",
       "0  Adventure Animation Children Comedy Fantasy  \n",
       "1                   Adventure Children Fantasy  \n",
       "2                               Comedy Romance  \n",
       "3                         Comedy Drama Romance  \n",
       "4                                       Comedy  "
      ]
     },
     "execution_count": 28,
     "metadata": {},
     "output_type": "execute_result"
    }
   ],
   "source": [
    "# Replace '|' with space to treat each genre as a separate word\n",
    "movies['genres'] = movies['genres'].str.replace('|', ' ', regex=False)\n",
    "movies[['title', 'genres']].head()\n"
   ]
  },
  {
   "cell_type": "markdown",
   "id": "1abe7ff2-146f-43a2-9e12-5c8d19781f63",
   "metadata": {},
   "source": [
    "### Convert Movie Genres into TF-IDF Features\n",
    "\n",
    "In this step, we convert the movie genres, which are text data, into numerical features using the TF-IDF (Term Frequency-Inverse Document Frequency) technique. \n",
    "\n",
    "- **TF-IDF Vectorizer** transforms the genre text by weighing the importance of each word, reducing the impact of very common words (like stop words).\n",
    "- We use `stop_words='english'` to automatically remove common English stop words.\n",
    "- The result is a sparse matrix (`tfidf_matrix`) where each row corresponds to a movie and each column corresponds to a unique genre term weighted by its TF-IDF score.\n",
    "\n",
    "Finally, we print the shape of this matrix to see how many movies and unique genre terms we have.\n"
   ]
  },
  {
   "cell_type": "code",
   "execution_count": null,
   "id": "045e5c0e-6270-4762-bb5e-c6ef5470ead8",
   "metadata": {},
   "outputs": [
    {
     "name": "stdout",
     "output_type": "stream",
     "text": [
      "(9742, 23)\n"
     ]
    }
   ],
   "source": [
    "# Convert genre text to TF-IDF features\n",
    "tfidf = TfidfVectorizer(stop_words='english')\n",
    "tfidf_matrix = tfidf.fit_transform(movies['genres'])\n",
    "\n",
    "# Show the shape of the TF-IDF matrix\n",
    "print(tfidf_matrix.shape)\n"
   ]
  },
  {
   "cell_type": "markdown",
   "id": "39549c68-15d3-4a96-8000-195c539e76ad",
   "metadata": {},
   "source": [
    "### Compute Similarity Between Movie Genres Using Cosine Similarity\n",
    "\n",
    "Now that we have transformed the movie genres into TF-IDF feature vectors, we calculate the similarity between all movies based on these features.\n",
    "\n",
    "- **Cosine similarity** measures the cosine of the angle between two vectors in a multi-dimensional space.\n",
    "- A higher cosine similarity (closer to 1) means the movies share more similar genres.\n",
    "- This results in a similarity matrix (`cosine_sim`), where each entry `[i, j]` represents the similarity score between movie `i` and movie `j`.\n"
   ]
  },
  {
   "cell_type": "code",
   "execution_count": null,
   "id": "5ade581d-7ff4-4bbb-836e-33c5c836e170",
   "metadata": {},
   "outputs": [],
   "source": [
    "# Compute similarity between all movie genres\n",
    "cosine_sim = cosine_similarity(tfidf_matrix, tfidf_matrix)\n"
   ]
  },
  {
   "cell_type": "markdown",
   "id": "cbbdde39-aad9-4d44-863b-5d0600e42ccf",
   "metadata": {},
   "source": [
    "### Create a Mapping from Movie Titles to DataFrame Indices\n",
    "\n",
    "To quickly access movie information by title, we create a mapping (`indices`) from each movie title to its corresponding index in the DataFrame.\n",
    "\n",
    "- This allows us to retrieve the index of a movie using its title efficiently.\n",
    "- We use `drop_duplicates()` to ensure each title maps to only one unique index, in case there are duplicate titles.\n"
   ]
  },
  {
   "cell_type": "code",
   "execution_count": null,
   "id": "7813fa00-745a-4d36-8547-6658aaa4ba0f",
   "metadata": {},
   "outputs": [],
   "source": [
    "# Map movie titles to their index\n",
    "indices = pd.Series(movies.index, index=movies['title']).drop_duplicates()\n"
   ]
  },
  {
   "cell_type": "markdown",
   "id": "63e50e9f-e660-4280-98bf-8f138924bd75",
   "metadata": {},
   "source": [
    "### Movie Recommendation Function Based on Genre Similarity\n",
    "\n",
    "This function `recommend_movie` takes a movie title as input and returns the top 5 movies with the most similar genres.\n",
    "\n",
    "- It first checks if the movie title exists in the dataset.\n",
    "- Finds the index of the given movie.\n",
    "- Retrieves the similarity scores for that movie from the cosine similarity matrix.\n",
    "- Sorts the movies based on similarity scores in descending order.\n",
    "- Skips the first result since it’s the movie itself, then selects the next top 5 most similar movies.\n",
    "- Returns the titles of these recommended movies.\n",
    "\n",
    "This function helps users discover movies with similar genres to their chosen movie.\n"
   ]
  },
  {
   "cell_type": "code",
   "execution_count": null,
   "id": "0b845e59-c0c5-4f8a-b060-8427311807d4",
   "metadata": {},
   "outputs": [],
   "source": [
    "# Function to recommend movies\n",
    "def recommend_movie(title, cosine_sim=cosine_sim):\n",
    "    if title not in indices:\n",
    "        return \"Movie not found.\"\n",
    "\n",
    "    idx = indices[title]\n",
    "    sim_scores = list(enumerate(cosine_sim[idx]))\n",
    "    sim_scores = sorted(sim_scores, key=lambda x: x[1], reverse=True)\n",
    "    sim_scores = sim_scores[1:6]  # Top 5 similar (skip the movie itself)\n",
    "    movie_indices = [i[0] for i in sim_scores]\n",
    "\n",
    "    return movies['title'].iloc[movie_indices]\n"
   ]
  },
  {
   "cell_type": "markdown",
   "id": "8106894e-2222-4caa-b6c5-a4be993ef118",
   "metadata": {},
   "source": [
    "### Example: Get Movie Recommendations\n",
    "\n",
    "Let’s test our recommendation function with a popular movie — **\"Toy Story (1995)\"** — to see the top 5 movies with similar genres.\n",
    "\n",
    "```python\n",
    "recommend_movie(\"Toy Story (1995)\")\n"
   ]
  },
  {
   "cell_type": "code",
   "execution_count": null,
   "id": "a18c8568-18ca-4a57-8b76-8b3166504dc5",
   "metadata": {},
   "outputs": [
    {
     "data": {
      "text/plain": [
       "1706                                       Antz (1998)\n",
       "2355                                Toy Story 2 (1999)\n",
       "2809    Adventures of Rocky and Bullwinkle, The (2000)\n",
       "3000                  Emperor's New Groove, The (2000)\n",
       "3568                             Monsters, Inc. (2001)\n",
       "Name: title, dtype: object"
      ]
     },
     "execution_count": 11,
     "metadata": {},
     "output_type": "execute_result"
    }
   ],
   "source": [
    "# Try with any movie name from your dataset\n",
    "recommend_movie(\"Toy Story (1995)\")\n"
   ]
  },
  {
   "cell_type": "code",
   "execution_count": null,
   "id": "a62575b2-e497-49cb-a67c-acd1898653c7",
   "metadata": {},
   "outputs": [
    {
     "data": {
      "text/plain": [
       "68           Screamers (1995)\n",
       "144    Johnny Mnemonic (1995)\n",
       "296         Virtuosity (1995)\n",
       "336            Timecop (1994)\n",
       "474       Blade Runner (1982)\n",
       "Name: title, dtype: object"
      ]
     },
     "execution_count": 16,
     "metadata": {},
     "output_type": "execute_result"
    }
   ],
   "source": [
    "recommend_movie(\"Jumanji (1995)\")\n",
    "recommend_movie(\"Matrix, The (1999)\")\n"
   ]
  },
  {
   "cell_type": "markdown",
   "id": "4ef0004f-2dc5-494c-b31c-02b9c2b1adce",
   "metadata": {},
   "source": [
    "### Interactive Movie Recommendation\n",
    "\n",
    "You can enter any movie title from the dataset to get personalized recommendations. \n",
    "\n",
    "- The input prompt asks for a movie title (e.g., *Titanic (1997)*).\n",
    "- The `recommend_movie` function then returns the top 5 movies with similar genres.\n",
    "- If the movie title is not found, it notifies you accordingly.\n",
    "\n",
    "```python\n",
    "user_input = input(\"Enter a movie title (e.g., Titanic (1997)): \")\n",
    "print(recommend_movie(user_input))\n"
   ]
  },
  {
   "cell_type": "code",
   "execution_count": null,
   "id": "66fd60a3-bd24-4b5f-a0bb-2784e7726c3b",
   "metadata": {},
   "outputs": [
    {
     "name": "stdout",
     "output_type": "stream",
     "text": [
      "Enter a movie title (e.g., Titanic (1997)):  Matrix, The (1999)\n"
     ]
    },
    {
     "name": "stdout",
     "output_type": "stream",
     "text": [
      "68           Screamers (1995)\n",
      "144    Johnny Mnemonic (1995)\n",
      "296         Virtuosity (1995)\n",
      "336            Timecop (1994)\n",
      "474       Blade Runner (1982)\n",
      "Name: title, dtype: object\n"
     ]
    }
   ],
   "source": [
    "user_input = input(\"Enter a movie title (e.g., Titanic (1997)): \")\n",
    "print(recommend_movie(user_input))\n"
   ]
  }
 ],
 "metadata": {
  "kernelspec": {
   "display_name": "Python 3 (ipykernel)",
   "language": "python",
   "name": "python3"
  },
  "language_info": {
   "codemirror_mode": {
    "name": "ipython",
    "version": 3
   },
   "file_extension": ".py",
   "mimetype": "text/x-python",
   "name": "python",
   "nbconvert_exporter": "python",
   "pygments_lexer": "ipython3",
   "version": "3.12.7"
  }
 },
 "nbformat": 4,
 "nbformat_minor": 5
}
